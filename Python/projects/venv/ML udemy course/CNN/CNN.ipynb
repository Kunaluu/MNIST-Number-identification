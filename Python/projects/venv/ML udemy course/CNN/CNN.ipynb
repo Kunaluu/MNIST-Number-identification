{
 "cells": [
  {
   "cell_type": "code",
   "execution_count": 3,
   "metadata": {},
   "outputs": [],
   "source": [
    "import tensorflow as tf\n",
    "from keras.preprocessing.image import ImageDataGenerator"
   ]
  },
  {
   "cell_type": "code",
   "execution_count": 4,
   "metadata": {},
   "outputs": [
    {
     "name": "stdout",
     "output_type": "stream",
     "text": [
      "Found 8000 images belonging to 2 classes.\n",
      "Found 2000 images belonging to 2 classes.\n"
     ]
    }
   ],
   "source": [
    "#preprocessing the training set\n",
    "train_datagen = ImageDataGenerator(rescale = 1./255,\n",
    "                                   shear_range = 0.2,\n",
    "                                   zoom_range = 0.2,\n",
    "                                   horizontal_flip = True)\n",
    "training_set = train_datagen.flow_from_directory('dataset/training_set',\n",
    "                                                 target_size = (64, 64),\n",
    "                                                 batch_size = 32,\n",
    "                                                 class_mode = 'binary')\n",
    "# Preprocessing the Test set\n",
    "test_datagen = ImageDataGenerator(rescale = 1./255)\n",
    "test_set = test_datagen.flow_from_directory('dataset/test_set',\n",
    "                                            target_size = (64, 64),\n",
    "                                            batch_size = 32,\n",
    "                                            class_mode = 'binary')\n"
   ]
  },
  {
   "cell_type": "code",
   "execution_count": 5,
   "metadata": {},
   "outputs": [],
   "source": [
    "#initializing the ann\n",
    "cnn = tf.keras.models.Sequential()"
   ]
  },
  {
   "cell_type": "code",
   "execution_count": 6,
   "metadata": {},
   "outputs": [],
   "source": [
    "#convolution\n",
    "cnn.add(tf.keras.layers.Conv2D(filters=32, kernel_size=3, activation='relu', input_shape=[64, 64, 3]))"
   ]
  },
  {
   "cell_type": "code",
   "execution_count": 7,
   "metadata": {},
   "outputs": [],
   "source": [
    "#pooling\n",
    "cnn.add(tf.keras.layers.MaxPool2D(pool_size=2, strides=2))"
   ]
  },
  {
   "cell_type": "code",
   "execution_count": 8,
   "metadata": {},
   "outputs": [],
   "source": [
    "#add a second convolutional layer\n",
    "cnn.add(tf.keras.layers.Conv2D(filters=32, kernel_size=3, activation='relu'))\n",
    "cnn.add(tf.keras.layers.MaxPool2D(pool_size=2, strides=2))"
   ]
  },
  {
   "cell_type": "code",
   "execution_count": 9,
   "metadata": {},
   "outputs": [],
   "source": [
    "#Flattening\n",
    "cnn.add(tf.keras.layers.Flatten())"
   ]
  },
  {
   "cell_type": "code",
   "execution_count": 10,
   "metadata": {},
   "outputs": [],
   "source": [
    "#Full Connection\n",
    "cnn.add(tf.keras.layers.Dense(units=128, activation='relu'))"
   ]
  },
  {
   "cell_type": "code",
   "execution_count": 11,
   "metadata": {},
   "outputs": [],
   "source": [
    "#Output Layer\n",
    "cnn.add(tf.keras.layers.Dense(units=1, activation='sigmoid'))"
   ]
  },
  {
   "cell_type": "code",
   "execution_count": 12,
   "metadata": {},
   "outputs": [],
   "source": [
    "# Compiling the CNN\n",
    "cnn.compile(optimizer = 'adam', loss = 'binary_crossentropy', metrics = ['accuracy'])"
   ]
  },
  {
   "cell_type": "code",
   "execution_count": 13,
   "metadata": {},
   "outputs": [
    {
     "name": "stdout",
     "output_type": "stream",
     "text": [
      "Epoch 1/25\n",
      "250/250 [==============================] - 30s 109ms/step - loss: 0.6871 - accuracy: 0.5474 - val_loss: 0.6351 - val_accuracy: 0.6395\n",
      "Epoch 2/25\n",
      "250/250 [==============================] - 23s 93ms/step - loss: 0.6167 - accuracy: 0.6660 - val_loss: 0.6007 - val_accuracy: 0.6700\n",
      "Epoch 3/25\n",
      "250/250 [==============================] - 24s 94ms/step - loss: 0.5852 - accuracy: 0.6873 - val_loss: 0.5553 - val_accuracy: 0.7235\n",
      "Epoch 4/25\n",
      "250/250 [==============================] - 23s 92ms/step - loss: 0.5524 - accuracy: 0.7135 - val_loss: 0.5685 - val_accuracy: 0.7205\n",
      "Epoch 5/25\n",
      "250/250 [==============================] - 25s 102ms/step - loss: 0.5309 - accuracy: 0.7331 - val_loss: 0.5300 - val_accuracy: 0.7440\n",
      "Epoch 6/25\n",
      "250/250 [==============================] - 25s 100ms/step - loss: 0.5042 - accuracy: 0.7540 - val_loss: 0.4992 - val_accuracy: 0.7695\n",
      "Epoch 7/25\n",
      "250/250 [==============================] - 25s 99ms/step - loss: 0.4882 - accuracy: 0.7630 - val_loss: 0.5284 - val_accuracy: 0.7590\n",
      "Epoch 8/25\n",
      "250/250 [==============================] - 25s 99ms/step - loss: 0.4799 - accuracy: 0.7681 - val_loss: 0.5420 - val_accuracy: 0.7510\n",
      "Epoch 9/25\n",
      "250/250 [==============================] - 25s 98ms/step - loss: 0.4657 - accuracy: 0.7769 - val_loss: 0.4759 - val_accuracy: 0.7880\n",
      "Epoch 10/25\n",
      "250/250 [==============================] - 25s 99ms/step - loss: 0.4487 - accuracy: 0.7891 - val_loss: 0.4808 - val_accuracy: 0.7925\n",
      "Epoch 11/25\n",
      "250/250 [==============================] - 27s 108ms/step - loss: 0.4455 - accuracy: 0.7943 - val_loss: 0.4720 - val_accuracy: 0.7870\n",
      "Epoch 12/25\n",
      "250/250 [==============================] - 27s 109ms/step - loss: 0.4371 - accuracy: 0.7939 - val_loss: 0.4757 - val_accuracy: 0.7830\n",
      "Epoch 13/25\n",
      "250/250 [==============================] - 28s 110ms/step - loss: 0.4278 - accuracy: 0.8043 - val_loss: 0.4601 - val_accuracy: 0.7950\n",
      "Epoch 14/25\n",
      "250/250 [==============================] - 56s 223ms/step - loss: 0.4192 - accuracy: 0.8080 - val_loss: 0.4505 - val_accuracy: 0.7995\n",
      "Epoch 15/25\n",
      "250/250 [==============================] - 26s 104ms/step - loss: 0.4082 - accuracy: 0.8114 - val_loss: 0.4891 - val_accuracy: 0.7905\n",
      "Epoch 16/25\n",
      "250/250 [==============================] - 25s 100ms/step - loss: 0.4011 - accuracy: 0.8167 - val_loss: 0.4574 - val_accuracy: 0.8060\n",
      "Epoch 17/25\n",
      "250/250 [==============================] - 30s 120ms/step - loss: 0.3897 - accuracy: 0.8229 - val_loss: 0.4591 - val_accuracy: 0.7950\n",
      "Epoch 18/25\n",
      "250/250 [==============================] - 30s 120ms/step - loss: 0.3884 - accuracy: 0.8211 - val_loss: 0.4478 - val_accuracy: 0.8035\n",
      "Epoch 19/25\n",
      "250/250 [==============================] - 52s 209ms/step - loss: 0.3787 - accuracy: 0.8285 - val_loss: 0.4534 - val_accuracy: 0.8000\n",
      "Epoch 20/25\n",
      "250/250 [==============================] - 23s 92ms/step - loss: 0.3702 - accuracy: 0.8324 - val_loss: 0.4911 - val_accuracy: 0.7900\n",
      "Epoch 21/25\n",
      "250/250 [==============================] - 23s 92ms/step - loss: 0.3672 - accuracy: 0.8360 - val_loss: 0.4540 - val_accuracy: 0.8080\n",
      "Epoch 22/25\n",
      "250/250 [==============================] - 27s 106ms/step - loss: 0.3598 - accuracy: 0.8393 - val_loss: 0.4909 - val_accuracy: 0.7990\n",
      "Epoch 23/25\n",
      "250/250 [==============================] - 25s 99ms/step - loss: 0.3546 - accuracy: 0.8425 - val_loss: 0.4808 - val_accuracy: 0.7850\n",
      "Epoch 24/25\n",
      "250/250 [==============================] - 25s 101ms/step - loss: 0.3457 - accuracy: 0.8476 - val_loss: 0.4946 - val_accuracy: 0.8005\n",
      "Epoch 25/25\n",
      "250/250 [==============================] - 25s 99ms/step - loss: 0.3437 - accuracy: 0.8424 - val_loss: 0.4940 - val_accuracy: 0.8045\n"
     ]
    },
    {
     "data": {
      "text/plain": [
       "<keras.callbacks.History at 0x24100440550>"
      ]
     },
     "execution_count": 13,
     "metadata": {},
     "output_type": "execute_result"
    }
   ],
   "source": [
    "# Training the CNN on the Training set and evaluating it on the Test set\n",
    "cnn.fit(x = training_set, validation_data = test_set, epochs = 25)\n"
   ]
  },
  {
   "cell_type": "code",
   "execution_count": 18,
   "metadata": {},
   "outputs": [
    {
     "name": "stdout",
     "output_type": "stream",
     "text": [
      "1/1 [==============================] - 2s 2s/step\n",
      "dog\n"
     ]
    }
   ],
   "source": [
    "import numpy as np\n",
    "test_image = tf.keras.utils.load_img('dataset/single_prediction/cat_or_dog_1.jpg', target_size = (64, 64))\n",
    "test_image = tf.keras.utils.img_to_array(test_image)\n",
    "test_image = np.expand_dims(test_image, axis = 0)\n",
    "result = cnn.predict(test_image)\n",
    "training_set.class_indices\n",
    "if result[0][0] == 1:\n",
    "    prediction = 'dog'\n",
    "else:\n",
    "    prediction = 'cat'\n",
    "print(prediction)"
   ]
  },
  {
   "cell_type": "code",
   "execution_count": null,
   "metadata": {},
   "outputs": [],
   "source": []
  }
 ],
 "metadata": {
  "kernelspec": {
   "display_name": "Python 3.10.4 64-bit",
   "language": "python",
   "name": "python3"
  },
  "language_info": {
   "codemirror_mode": {
    "name": "ipython",
    "version": 3
   },
   "file_extension": ".py",
   "mimetype": "text/x-python",
   "name": "python",
   "nbconvert_exporter": "python",
   "pygments_lexer": "ipython3",
   "version": "3.10.4"
  },
  "orig_nbformat": 4,
  "vscode": {
   "interpreter": {
    "hash": "63963b3f4c440940f0b94a3100916033a226cb4f45979123153792d60aa56d6a"
   }
  }
 },
 "nbformat": 4,
 "nbformat_minor": 2
}
