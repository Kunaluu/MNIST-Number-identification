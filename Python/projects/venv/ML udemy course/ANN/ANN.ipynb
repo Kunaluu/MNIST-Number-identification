{
 "cells": [
  {
   "cell_type": "code",
   "execution_count": 5,
   "metadata": {},
   "outputs": [
    {
     "name": "stdout",
     "output_type": "stream",
     "text": [
      "Collecting tensorflow\n",
      "  Using cached tensorflow-2.9.1-cp310-cp310-win_amd64.whl (444.1 MB)\n",
      "Requirement already satisfied: numpy>=1.20 in c:\\users\\hp\\appdata\\local\\programs\\python\\python310\\lib\\site-packages (from tensorflow) (1.22.3)\n",
      "Requirement already satisfied: keras<2.10.0,>=2.9.0rc0 in c:\\users\\hp\\appdata\\local\\programs\\python\\python310\\lib\\site-packages (from tensorflow) (2.9.0)\n",
      "Collecting google-pasta>=0.1.1\n",
      "  Using cached google_pasta-0.2.0-py3-none-any.whl (57 kB)\n",
      "Collecting gast<=0.4.0,>=0.2.1\n",
      "  Using cached gast-0.4.0-py3-none-any.whl (9.8 kB)\n",
      "Collecting protobuf<3.20,>=3.9.2\n",
      "  Using cached protobuf-3.19.4-cp310-cp310-win_amd64.whl (895 kB)\n",
      "Collecting tensorboard<2.10,>=2.9\n",
      "  Using cached tensorboard-2.9.1-py3-none-any.whl (5.8 MB)\n",
      "Requirement already satisfied: libclang>=13.0.0 in c:\\users\\hp\\appdata\\local\\programs\\python\\python310\\lib\\site-packages (from tensorflow) (14.0.6)\n",
      "Collecting h5py>=2.9.0\n",
      "  Using cached h5py-3.7.0-cp310-cp310-win_amd64.whl (2.6 MB)\n",
      "Requirement already satisfied: flatbuffers<2,>=1.12 in c:\\users\\hp\\appdata\\local\\programs\\python\\python310\\lib\\site-packages (from tensorflow) (1.12)\n",
      "Collecting absl-py>=1.0.0\n",
      "  Using cached absl_py-1.2.0-py3-none-any.whl (123 kB)\n",
      "Collecting tensorflow-estimator<2.10.0,>=2.9.0rc0\n",
      "  Using cached tensorflow_estimator-2.9.0-py2.py3-none-any.whl (438 kB)\n",
      "Collecting opt-einsum>=2.3.2\n",
      "  Using cached opt_einsum-3.3.0-py3-none-any.whl (65 kB)\n",
      "Requirement already satisfied: termcolor>=1.1.0 in c:\\users\\hp\\appdata\\local\\programs\\python\\python310\\lib\\site-packages (from tensorflow) (1.1.0)\n",
      "Requirement already satisfied: setuptools in c:\\users\\hp\\appdata\\local\\programs\\python\\python310\\lib\\site-packages (from tensorflow) (58.1.0)\n",
      "Collecting keras-preprocessing>=1.1.1\n",
      "  Using cached Keras_Preprocessing-1.1.2-py2.py3-none-any.whl (42 kB)\n",
      "Collecting tensorflow-io-gcs-filesystem>=0.23.1\n",
      "  Using cached tensorflow_io_gcs_filesystem-0.26.0-cp310-cp310-win_amd64.whl (1.5 MB)\n",
      "Collecting astunparse>=1.6.0\n",
      "  Using cached astunparse-1.6.3-py2.py3-none-any.whl (12 kB)\n",
      "Requirement already satisfied: six>=1.12.0 in c:\\users\\hp\\appdata\\local\\programs\\python\\python310\\lib\\site-packages (from tensorflow) (1.16.0)\n",
      "Collecting typing-extensions>=3.6.6\n",
      "  Using cached typing_extensions-4.3.0-py3-none-any.whl (25 kB)\n",
      "Requirement already satisfied: wrapt>=1.11.0 in c:\\users\\hp\\appdata\\local\\programs\\python\\python310\\lib\\site-packages (from tensorflow) (1.14.1)\n",
      "Requirement already satisfied: packaging in c:\\users\\hp\\appdata\\local\\programs\\python\\python310\\lib\\site-packages (from tensorflow) (21.3)\n",
      "Collecting grpcio<2.0,>=1.24.3\n",
      "  Using cached grpcio-1.47.0-cp310-cp310-win_amd64.whl (3.5 MB)\n",
      "Requirement already satisfied: wheel<1.0,>=0.23.0 in c:\\users\\hp\\appdata\\local\\programs\\python\\python310\\lib\\site-packages (from astunparse>=1.6.0->tensorflow) (0.37.1)\n",
      "Collecting google-auth<3,>=1.6.3\n",
      "  Using cached google_auth-2.10.0-py2.py3-none-any.whl (167 kB)\n",
      "Collecting google-auth-oauthlib<0.5,>=0.4.1\n",
      "  Using cached google_auth_oauthlib-0.4.6-py2.py3-none-any.whl (18 kB)\n",
      "Collecting requests<3,>=2.21.0\n",
      "  Using cached requests-2.28.1-py3-none-any.whl (62 kB)\n",
      "Collecting tensorboard-data-server<0.7.0,>=0.6.0\n",
      "  Using cached tensorboard_data_server-0.6.1-py3-none-any.whl (2.4 kB)\n",
      "Requirement already satisfied: werkzeug>=1.0.1 in c:\\users\\hp\\appdata\\local\\programs\\python\\python310\\lib\\site-packages (from tensorboard<2.10,>=2.9->tensorflow) (2.2.1)\n",
      "Requirement already satisfied: tensorboard-plugin-wit>=1.6.0 in c:\\users\\hp\\appdata\\local\\programs\\python\\python310\\lib\\site-packages (from tensorboard<2.10,>=2.9->tensorflow) (1.8.1)\n",
      "Collecting markdown>=2.6.8\n",
      "  Using cached Markdown-3.4.1-py3-none-any.whl (93 kB)\n",
      "Requirement already satisfied: pyparsing!=3.0.5,>=2.0.2 in c:\\users\\hp\\appdata\\local\\programs\\python\\python310\\lib\\site-packages (from packaging->tensorflow) (3.0.7)\n",
      "Collecting rsa<5,>=3.1.4\n",
      "  Using cached rsa-4.9-py3-none-any.whl (34 kB)\n",
      "Collecting pyasn1-modules>=0.2.1\n",
      "  Using cached pyasn1_modules-0.2.8-py2.py3-none-any.whl (155 kB)\n",
      "Collecting cachetools<6.0,>=2.0.0\n",
      "  Using cached cachetools-5.2.0-py3-none-any.whl (9.3 kB)\n",
      "Collecting requests-oauthlib>=0.7.0\n",
      "  Using cached requests_oauthlib-1.3.1-py2.py3-none-any.whl (23 kB)\n",
      "Collecting charset-normalizer<3,>=2\n",
      "  Using cached charset_normalizer-2.1.0-py3-none-any.whl (39 kB)\n",
      "Collecting idna<4,>=2.5\n",
      "  Using cached idna-3.3-py3-none-any.whl (61 kB)\n",
      "Requirement already satisfied: urllib3<1.27,>=1.21.1 in c:\\users\\hp\\appdata\\local\\programs\\python\\python310\\lib\\site-packages (from requests<3,>=2.21.0->tensorboard<2.10,>=2.9->tensorflow) (1.26.11)\n",
      "Collecting certifi>=2017.4.17\n",
      "  Using cached certifi-2022.6.15-py3-none-any.whl (160 kB)\n",
      "Requirement already satisfied: MarkupSafe>=2.1.1 in c:\\users\\hp\\appdata\\local\\programs\\python\\python310\\lib\\site-packages (from werkzeug>=1.0.1->tensorboard<2.10,>=2.9->tensorflow) (2.1.1)\n",
      "Requirement already satisfied: pyasn1<0.5.0,>=0.4.6 in c:\\users\\hp\\appdata\\local\\programs\\python\\python310\\lib\\site-packages (from pyasn1-modules>=0.2.1->google-auth<3,>=1.6.3->tensorboard<2.10,>=2.9->tensorflow) (0.4.8)\n",
      "Collecting oauthlib>=3.0.0\n",
      "  Using cached oauthlib-3.2.0-py3-none-any.whl (151 kB)\n",
      "Installing collected packages: typing-extensions, tensorflow-io-gcs-filesystem, tensorflow-estimator, tensorboard-data-server, rsa, pyasn1-modules, protobuf, opt-einsum, oauthlib, markdown, keras-preprocessing, idna, h5py, grpcio, google-pasta, gast, charset-normalizer, certifi, cachetools, astunparse, absl-py, requests, google-auth, requests-oauthlib, google-auth-oauthlib, tensorboard, tensorflow\n",
      "Note: you may need to restart the kernel to use updated packages.\n"
     ]
    },
    {
     "name": "stderr",
     "output_type": "stream",
     "text": [
      "ERROR: Could not install packages due to an OSError: [WinError 32] The process cannot access the file because it is being used by another process: 'c:\\\\Users\\\\hp\\\\AppData\\\\Local\\\\Programs\\\\Python\\\\Python310\\\\Lib\\\\site-packages\\\\tensorflow_estimator\\\\python\\\\estimator\\\\inputs\\\\numpy_io.py'\n",
      "Consider using the `--user` option or check the permissions.\n",
      "\n",
      "WARNING: You are using pip version 22.0.4; however, version 22.2.2 is available.\n",
      "You should consider upgrading via the 'c:\\Users\\hp\\AppData\\Local\\Programs\\Python\\Python310\\python.exe -m pip install --upgrade pip' command.\n"
     ]
    }
   ],
   "source": [
    "%pip install tensorflow"
   ]
  },
  {
   "cell_type": "code",
   "execution_count": 18,
   "metadata": {},
   "outputs": [],
   "source": [
    "import numpy as np\n",
    "import pandas as pd\n",
    "import tensorflow as tf"
   ]
  },
  {
   "cell_type": "code",
   "execution_count": 19,
   "metadata": {},
   "outputs": [
    {
     "name": "stdout",
     "output_type": "stream",
     "text": [
      "[[619 'France' 'Female' ... 1 1 101348.88]\n",
      " [608 'Spain' 'Female' ... 0 1 112542.58]\n",
      " [502 'France' 'Female' ... 1 0 113931.57]\n",
      " ...\n",
      " [709 'France' 'Female' ... 0 1 42085.58]\n",
      " [772 'Germany' 'Male' ... 1 0 92888.52]\n",
      " [792 'France' 'Female' ... 1 0 38190.78]]\n"
     ]
    }
   ],
   "source": [
    "dataset = pd.read_csv(\"Churn_Modelling.csv\")\n",
    "X = dataset.iloc[:,3:-1].values\n",
    "y = dataset.iloc[:,-1].values\n",
    "print(X)\n"
   ]
  },
  {
   "cell_type": "code",
   "execution_count": 20,
   "metadata": {},
   "outputs": [
    {
     "name": "stdout",
     "output_type": "stream",
     "text": [
      "[[619 'France' 0 ... 1 1 101348.88]\n",
      " [608 'Spain' 0 ... 0 1 112542.58]\n",
      " [502 'France' 0 ... 1 0 113931.57]\n",
      " ...\n",
      " [709 'France' 0 ... 0 1 42085.58]\n",
      " [772 'Germany' 1 ... 1 0 92888.52]\n",
      " [792 'France' 0 ... 1 0 38190.78]]\n"
     ]
    }
   ],
   "source": [
    "from sklearn.preprocessing import LabelEncoder\n",
    "le = LabelEncoder() #encoding gender column\n",
    "X[:,2] = le.fit_transform(X[:,2])\n",
    "print(X)"
   ]
  },
  {
   "cell_type": "code",
   "execution_count": 21,
   "metadata": {},
   "outputs": [
    {
     "name": "stdout",
     "output_type": "stream",
     "text": [
      "[[1.0 0.0 0.0 ... 1 1 101348.88]\n",
      " [0.0 0.0 1.0 ... 0 1 112542.58]\n",
      " [1.0 0.0 0.0 ... 1 0 113931.57]\n",
      " ...\n",
      " [1.0 0.0 0.0 ... 0 1 42085.58]\n",
      " [0.0 1.0 0.0 ... 1 0 92888.52]\n",
      " [1.0 0.0 0.0 ... 1 0 38190.78]]\n"
     ]
    }
   ],
   "source": [
    "from sklearn.compose import ColumnTransformer\n",
    "from sklearn.preprocessing import OneHotEncoder\n",
    "ct = ColumnTransformer(transformers =[('encoder', OneHotEncoder(), [1])], remainder = 'passthrough')\n",
    "#passthrough means that any columns not encoded will not be removed\n",
    "X = np.array(ct.fit_transform(X))   #encoding country column\n",
    "print(X)"
   ]
  },
  {
   "cell_type": "code",
   "execution_count": 22,
   "metadata": {},
   "outputs": [],
   "source": [
    "from sklearn.model_selection import train_test_split\n",
    "X_train, X_test, y_train, y_test = train_test_split(X, y, test_size = 0.2, random_state = 0)"
   ]
  },
  {
   "cell_type": "code",
   "execution_count": 23,
   "metadata": {},
   "outputs": [],
   "source": [
    "from sklearn.preprocessing import StandardScaler\n",
    "sc = StandardScaler()\n",
    "X_train = sc.fit_transform(X_train)\n",
    "X_test = sc.transform(X_test)"
   ]
  },
  {
   "cell_type": "code",
   "execution_count": 24,
   "metadata": {},
   "outputs": [],
   "source": [
    "#initalize ann\n",
    "ann = tf.keras.models.Sequential()"
   ]
  },
  {
   "cell_type": "code",
   "execution_count": 25,
   "metadata": {},
   "outputs": [],
   "source": [
    "#Add input layer and first hidden layer\n",
    "ann.add(tf.keras.layers.Dense(units = 6, activation = 'relu'))    #Dense(No of neurons,Activation func)"
   ]
  },
  {
   "cell_type": "code",
   "execution_count": 26,
   "metadata": {},
   "outputs": [],
   "source": [
    "#adding 2nd hidden layer\n",
    "ann.add(tf.keras.layers.Dense(units = 6, activation = 'relu')) "
   ]
  },
  {
   "cell_type": "code",
   "execution_count": 27,
   "metadata": {},
   "outputs": [],
   "source": [
    "#add output layer\n",
    "ann.add(tf.keras.layers.Dense(units = 1, activation = 'sigmoid')) \n",
    "#sigmoid activation function for the output layer"
   ]
  },
  {
   "cell_type": "code",
   "execution_count": 28,
   "metadata": {},
   "outputs": [],
   "source": [
    "#compile ann\n",
    "ann.compile(optimizer ='adam' , loss ='binary_crossentropy' , metrics = ['accuracy'])"
   ]
  },
  {
   "cell_type": "code",
   "execution_count": 29,
   "metadata": {},
   "outputs": [
    {
     "name": "stdout",
     "output_type": "stream",
     "text": [
      "Epoch 1/100\n",
      "250/250 [==============================] - 3s 748us/step - loss: 0.5476 - accuracy: 0.7960\n",
      "Epoch 2/100\n",
      "250/250 [==============================] - 0s 680us/step - loss: 0.4705 - accuracy: 0.7974\n",
      "Epoch 3/100\n",
      "250/250 [==============================] - 0s 698us/step - loss: 0.4425 - accuracy: 0.8044\n",
      "Epoch 4/100\n",
      "250/250 [==============================] - 0s 706us/step - loss: 0.4277 - accuracy: 0.8081\n",
      "Epoch 5/100\n",
      "250/250 [==============================] - 0s 664us/step - loss: 0.4165 - accuracy: 0.8127\n",
      "Epoch 6/100\n",
      "250/250 [==============================] - 0s 668us/step - loss: 0.4077 - accuracy: 0.8170\n",
      "Epoch 7/100\n",
      "250/250 [==============================] - 0s 666us/step - loss: 0.4003 - accuracy: 0.8200\n",
      "Epoch 8/100\n",
      "250/250 [==============================] - 0s 651us/step - loss: 0.3940 - accuracy: 0.8225\n",
      "Epoch 9/100\n",
      "250/250 [==============================] - 0s 650us/step - loss: 0.3889 - accuracy: 0.8254\n",
      "Epoch 10/100\n",
      "250/250 [==============================] - 0s 689us/step - loss: 0.3847 - accuracy: 0.8261\n",
      "Epoch 11/100\n",
      "250/250 [==============================] - 0s 670us/step - loss: 0.3817 - accuracy: 0.8298\n",
      "Epoch 12/100\n",
      "250/250 [==============================] - 0s 661us/step - loss: 0.3784 - accuracy: 0.8296\n",
      "Epoch 13/100\n",
      "250/250 [==============================] - 0s 641us/step - loss: 0.3757 - accuracy: 0.8306\n",
      "Epoch 14/100\n",
      "250/250 [==============================] - 0s 650us/step - loss: 0.3734 - accuracy: 0.8294\n",
      "Epoch 15/100\n",
      "250/250 [==============================] - 0s 648us/step - loss: 0.3705 - accuracy: 0.8311\n",
      "Epoch 16/100\n",
      "250/250 [==============================] - 0s 725us/step - loss: 0.3682 - accuracy: 0.8311\n",
      "Epoch 17/100\n",
      "250/250 [==============================] - 0s 702us/step - loss: 0.3661 - accuracy: 0.8310\n",
      "Epoch 18/100\n",
      "250/250 [==============================] - 0s 959us/step - loss: 0.3640 - accuracy: 0.8316\n",
      "Epoch 19/100\n",
      "250/250 [==============================] - 0s 797us/step - loss: 0.3624 - accuracy: 0.8344\n",
      "Epoch 20/100\n",
      "250/250 [==============================] - 0s 744us/step - loss: 0.3610 - accuracy: 0.8505\n",
      "Epoch 21/100\n",
      "250/250 [==============================] - 0s 675us/step - loss: 0.3592 - accuracy: 0.8531\n",
      "Epoch 22/100\n",
      "250/250 [==============================] - 0s 655us/step - loss: 0.3583 - accuracy: 0.8541\n",
      "Epoch 23/100\n",
      "250/250 [==============================] - 0s 682us/step - loss: 0.3569 - accuracy: 0.8577\n",
      "Epoch 24/100\n",
      "250/250 [==============================] - 0s 785us/step - loss: 0.3559 - accuracy: 0.8564\n",
      "Epoch 25/100\n",
      "250/250 [==============================] - 0s 651us/step - loss: 0.3551 - accuracy: 0.8558\n",
      "Epoch 26/100\n",
      "250/250 [==============================] - 0s 649us/step - loss: 0.3538 - accuracy: 0.8570\n",
      "Epoch 27/100\n",
      "250/250 [==============================] - 0s 669us/step - loss: 0.3531 - accuracy: 0.8570\n",
      "Epoch 28/100\n",
      "250/250 [==============================] - 0s 645us/step - loss: 0.3521 - accuracy: 0.8599\n",
      "Epoch 29/100\n",
      "250/250 [==============================] - 0s 659us/step - loss: 0.3513 - accuracy: 0.8597\n",
      "Epoch 30/100\n",
      "250/250 [==============================] - 0s 669us/step - loss: 0.3501 - accuracy: 0.8604\n",
      "Epoch 31/100\n",
      "250/250 [==============================] - 0s 681us/step - loss: 0.3495 - accuracy: 0.8596\n",
      "Epoch 32/100\n",
      "250/250 [==============================] - 0s 665us/step - loss: 0.3485 - accuracy: 0.8608\n",
      "Epoch 33/100\n",
      "250/250 [==============================] - 0s 659us/step - loss: 0.3483 - accuracy: 0.8606\n",
      "Epoch 34/100\n",
      "250/250 [==============================] - 0s 721us/step - loss: 0.3474 - accuracy: 0.8616\n",
      "Epoch 35/100\n",
      "250/250 [==============================] - 0s 734us/step - loss: 0.3464 - accuracy: 0.8604\n",
      "Epoch 36/100\n",
      "250/250 [==============================] - 0s 646us/step - loss: 0.3460 - accuracy: 0.8618\n",
      "Epoch 37/100\n",
      "250/250 [==============================] - 0s 678us/step - loss: 0.3453 - accuracy: 0.8606\n",
      "Epoch 38/100\n",
      "250/250 [==============================] - 0s 645us/step - loss: 0.3446 - accuracy: 0.8616\n",
      "Epoch 39/100\n",
      "250/250 [==============================] - 0s 673us/step - loss: 0.3447 - accuracy: 0.8591\n",
      "Epoch 40/100\n",
      "250/250 [==============================] - 0s 676us/step - loss: 0.3439 - accuracy: 0.8624\n",
      "Epoch 41/100\n",
      "250/250 [==============================] - 0s 575us/step - loss: 0.3434 - accuracy: 0.8625\n",
      "Epoch 42/100\n",
      "250/250 [==============================] - 0s 556us/step - loss: 0.3429 - accuracy: 0.8609\n",
      "Epoch 43/100\n",
      "250/250 [==============================] - 0s 562us/step - loss: 0.3428 - accuracy: 0.8620\n",
      "Epoch 44/100\n",
      "250/250 [==============================] - 0s 568us/step - loss: 0.3424 - accuracy: 0.8612\n",
      "Epoch 45/100\n",
      "250/250 [==============================] - 0s 554us/step - loss: 0.3419 - accuracy: 0.8618\n",
      "Epoch 46/100\n",
      "250/250 [==============================] - 0s 566us/step - loss: 0.3416 - accuracy: 0.8615\n",
      "Epoch 47/100\n",
      "250/250 [==============================] - 0s 562us/step - loss: 0.3418 - accuracy: 0.8612\n",
      "Epoch 48/100\n",
      "250/250 [==============================] - 0s 562us/step - loss: 0.3409 - accuracy: 0.8627\n",
      "Epoch 49/100\n",
      "250/250 [==============================] - 0s 552us/step - loss: 0.3411 - accuracy: 0.8621\n",
      "Epoch 50/100\n",
      "250/250 [==============================] - 0s 565us/step - loss: 0.3407 - accuracy: 0.8624\n",
      "Epoch 51/100\n",
      "250/250 [==============================] - 0s 574us/step - loss: 0.3409 - accuracy: 0.8633\n",
      "Epoch 52/100\n",
      "250/250 [==============================] - 0s 561us/step - loss: 0.3406 - accuracy: 0.8633\n",
      "Epoch 53/100\n",
      "250/250 [==============================] - 0s 559us/step - loss: 0.3402 - accuracy: 0.8624\n",
      "Epoch 54/100\n",
      "250/250 [==============================] - 0s 567us/step - loss: 0.3399 - accuracy: 0.8618\n",
      "Epoch 55/100\n",
      "250/250 [==============================] - 0s 559us/step - loss: 0.3397 - accuracy: 0.8629\n",
      "Epoch 56/100\n",
      "250/250 [==============================] - 0s 551us/step - loss: 0.3397 - accuracy: 0.8639\n",
      "Epoch 57/100\n",
      "250/250 [==============================] - 0s 558us/step - loss: 0.3395 - accuracy: 0.8633\n",
      "Epoch 58/100\n",
      "250/250 [==============================] - 0s 554us/step - loss: 0.3391 - accuracy: 0.8625\n",
      "Epoch 59/100\n",
      "250/250 [==============================] - 0s 566us/step - loss: 0.3392 - accuracy: 0.8633\n",
      "Epoch 60/100\n",
      "250/250 [==============================] - 0s 563us/step - loss: 0.3386 - accuracy: 0.8633\n",
      "Epoch 61/100\n",
      "250/250 [==============================] - 0s 564us/step - loss: 0.3387 - accuracy: 0.8633\n",
      "Epoch 62/100\n",
      "250/250 [==============================] - 0s 561us/step - loss: 0.3386 - accuracy: 0.8610\n",
      "Epoch 63/100\n",
      "250/250 [==============================] - 0s 589us/step - loss: 0.3384 - accuracy: 0.8635\n",
      "Epoch 64/100\n",
      "250/250 [==============================] - 0s 562us/step - loss: 0.3384 - accuracy: 0.8627\n",
      "Epoch 65/100\n",
      "250/250 [==============================] - 0s 548us/step - loss: 0.3381 - accuracy: 0.8636\n",
      "Epoch 66/100\n",
      "250/250 [==============================] - 0s 579us/step - loss: 0.3376 - accuracy: 0.8626\n",
      "Epoch 67/100\n",
      "250/250 [==============================] - 0s 567us/step - loss: 0.3376 - accuracy: 0.8643\n",
      "Epoch 68/100\n",
      "250/250 [==============================] - 0s 586us/step - loss: 0.3375 - accuracy: 0.8633\n",
      "Epoch 69/100\n",
      "250/250 [==============================] - 0s 637us/step - loss: 0.3373 - accuracy: 0.8634\n",
      "Epoch 70/100\n",
      "250/250 [==============================] - 0s 671us/step - loss: 0.3377 - accuracy: 0.8619\n",
      "Epoch 71/100\n",
      "250/250 [==============================] - 0s 636us/step - loss: 0.3372 - accuracy: 0.8627\n",
      "Epoch 72/100\n",
      "250/250 [==============================] - 0s 645us/step - loss: 0.3370 - accuracy: 0.8624\n",
      "Epoch 73/100\n",
      "250/250 [==============================] - 0s 662us/step - loss: 0.3368 - accuracy: 0.8634\n",
      "Epoch 74/100\n",
      "250/250 [==============================] - 0s 653us/step - loss: 0.3370 - accuracy: 0.8635\n",
      "Epoch 75/100\n",
      "250/250 [==============================] - 0s 658us/step - loss: 0.3366 - accuracy: 0.8636\n",
      "Epoch 76/100\n",
      "250/250 [==============================] - 0s 639us/step - loss: 0.3364 - accuracy: 0.8622\n",
      "Epoch 77/100\n",
      "250/250 [==============================] - 0s 565us/step - loss: 0.3363 - accuracy: 0.8627\n",
      "Epoch 78/100\n",
      "250/250 [==============================] - 0s 630us/step - loss: 0.3367 - accuracy: 0.8636\n",
      "Epoch 79/100\n",
      "250/250 [==============================] - 0s 577us/step - loss: 0.3363 - accuracy: 0.8636\n",
      "Epoch 80/100\n",
      "250/250 [==============================] - 0s 591us/step - loss: 0.3359 - accuracy: 0.8625\n",
      "Epoch 81/100\n",
      "250/250 [==============================] - 0s 557us/step - loss: 0.3358 - accuracy: 0.8635\n",
      "Epoch 82/100\n",
      "250/250 [==============================] - 0s 634us/step - loss: 0.3357 - accuracy: 0.8621\n",
      "Epoch 83/100\n",
      "250/250 [==============================] - 0s 552us/step - loss: 0.3359 - accuracy: 0.8631\n",
      "Epoch 84/100\n",
      "250/250 [==============================] - 0s 638us/step - loss: 0.3355 - accuracy: 0.8620\n",
      "Epoch 85/100\n",
      "250/250 [==============================] - 0s 755us/step - loss: 0.3352 - accuracy: 0.8630\n",
      "Epoch 86/100\n",
      "250/250 [==============================] - 0s 710us/step - loss: 0.3353 - accuracy: 0.8637\n",
      "Epoch 87/100\n",
      "250/250 [==============================] - 0s 681us/step - loss: 0.3353 - accuracy: 0.8630\n",
      "Epoch 88/100\n",
      "250/250 [==============================] - 0s 654us/step - loss: 0.3351 - accuracy: 0.8633\n",
      "Epoch 89/100\n",
      "250/250 [==============================] - 0s 673us/step - loss: 0.3349 - accuracy: 0.8629\n",
      "Epoch 90/100\n",
      "250/250 [==============================] - 0s 668us/step - loss: 0.3351 - accuracy: 0.8630\n",
      "Epoch 91/100\n",
      "250/250 [==============================] - 0s 665us/step - loss: 0.3349 - accuracy: 0.8637\n",
      "Epoch 92/100\n",
      "250/250 [==============================] - 0s 559us/step - loss: 0.3350 - accuracy: 0.8633\n",
      "Epoch 93/100\n",
      "250/250 [==============================] - 0s 576us/step - loss: 0.3350 - accuracy: 0.8627\n",
      "Epoch 94/100\n",
      "250/250 [==============================] - 0s 563us/step - loss: 0.3344 - accuracy: 0.8627\n",
      "Epoch 95/100\n",
      "250/250 [==============================] - 0s 572us/step - loss: 0.3345 - accuracy: 0.8629\n",
      "Epoch 96/100\n",
      "250/250 [==============================] - 0s 571us/step - loss: 0.3349 - accuracy: 0.8633\n",
      "Epoch 97/100\n",
      "250/250 [==============================] - 0s 573us/step - loss: 0.3349 - accuracy: 0.8621\n",
      "Epoch 98/100\n",
      "250/250 [==============================] - 0s 562us/step - loss: 0.3341 - accuracy: 0.8636\n",
      "Epoch 99/100\n",
      "250/250 [==============================] - 0s 565us/step - loss: 0.3343 - accuracy: 0.8618\n",
      "Epoch 100/100\n",
      "250/250 [==============================] - 0s 629us/step - loss: 0.3342 - accuracy: 0.8637\n"
     ]
    },
    {
     "data": {
      "text/plain": [
       "<keras.callbacks.History at 0x24b142411e0>"
      ]
     },
     "execution_count": 29,
     "metadata": {},
     "output_type": "execute_result"
    }
   ],
   "source": [
    "#training\n",
    "ann.fit(X_train, y_train, batch_size = 32, epochs = 100)"
   ]
  },
  {
   "cell_type": "code",
   "execution_count": 30,
   "metadata": {},
   "outputs": [
    {
     "name": "stdout",
     "output_type": "stream",
     "text": [
      "63/63 [==============================] - 2s 604us/step\n",
      "[[0 0]\n",
      " [0 1]\n",
      " [0 0]\n",
      " ...\n",
      " [0 0]\n",
      " [0 0]\n",
      " [0 0]]\n"
     ]
    }
   ],
   "source": [
    "y_pred = ann.predict(X_test)\n",
    "y_pred = (y_pred > 0.5)\n",
    "print(np.concatenate((y_pred.reshape(len(y_pred),1), y_test.reshape(len(y_test),1)),1))"
   ]
  },
  {
   "cell_type": "code",
   "execution_count": 31,
   "metadata": {},
   "outputs": [
    {
     "name": "stdout",
     "output_type": "stream",
     "text": [
      "[[1515   80]\n",
      " [ 191  214]]\n"
     ]
    },
    {
     "data": {
      "text/plain": [
       "0.8645"
      ]
     },
     "execution_count": 31,
     "metadata": {},
     "output_type": "execute_result"
    }
   ],
   "source": [
    "#drawing the confusion matrix\n",
    "from sklearn.metrics import confusion_matrix, accuracy_score\n",
    "cm = confusion_matrix(y_test, y_pred)\n",
    "print(cm)\n",
    "accuracy_score(y_test, y_pred)"
   ]
  },
  {
   "cell_type": "code",
   "execution_count": null,
   "metadata": {},
   "outputs": [],
   "source": []
  }
 ],
 "metadata": {
  "kernelspec": {
   "display_name": "Python 3.10.4 64-bit",
   "language": "python",
   "name": "python3"
  },
  "language_info": {
   "codemirror_mode": {
    "name": "ipython",
    "version": 3
   },
   "file_extension": ".py",
   "mimetype": "text/x-python",
   "name": "python",
   "nbconvert_exporter": "python",
   "pygments_lexer": "ipython3",
   "version": "3.10.4"
  },
  "orig_nbformat": 4,
  "vscode": {
   "interpreter": {
    "hash": "63963b3f4c440940f0b94a3100916033a226cb4f45979123153792d60aa56d6a"
   }
  }
 },
 "nbformat": 4,
 "nbformat_minor": 2
}
