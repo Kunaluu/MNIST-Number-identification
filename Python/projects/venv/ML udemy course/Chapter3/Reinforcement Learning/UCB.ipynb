{
 "cells": [
  {
   "cell_type": "code",
   "execution_count": 1,
   "metadata": {},
   "outputs": [],
   "source": [
    "import numpy as np\n",
    "import matplotlib.pyplot as plt\n",
    "import pandas as pd"
   ]
  },
  {
   "cell_type": "code",
   "execution_count": 2,
   "metadata": {},
   "outputs": [],
   "source": [
    "dataset = pd.read_csv(\"Ads_CTR_Optimisation.csv\")"
   ]
  },
  {
   "cell_type": "code",
   "execution_count": 3,
   "metadata": {},
   "outputs": [
    {
     "ename": "TypeError",
     "evalue": "'builtin_function_or_method' object is not subscriptable",
     "output_type": "error",
     "traceback": [
      "\u001b[1;31m---------------------------------------------------------------------------\u001b[0m",
      "\u001b[1;31mTypeError\u001b[0m                                 Traceback (most recent call last)",
      "\u001b[1;32mc:\\Users\\hp\\Desktop\\Random Programs\\Python\\projects\\venv\\ML udemy course\\Chapter3\\Reinforcement Learning\\UCB.ipynb Cell 3\u001b[0m in \u001b[0;36m<cell line: 21>\u001b[1;34m()\u001b[0m\n\u001b[0;32m     <a href='vscode-notebook-cell:/c%3A/Users/hp/Desktop/Random%20Programs/Python/projects/venv/ML%20udemy%20course/Chapter3/Reinforcement%20Learning/UCB.ipynb#ch0000002?line=18'>19</a>\u001b[0m             max_UCB \u001b[39m=\u001b[39m upper_bound\n\u001b[0;32m     <a href='vscode-notebook-cell:/c%3A/Users/hp/Desktop/Random%20Programs/Python/projects/venv/ML%20udemy%20course/Chapter3/Reinforcement%20Learning/UCB.ipynb#ch0000002?line=19'>20</a>\u001b[0m             ad \u001b[39m=\u001b[39m i\n\u001b[1;32m---> <a href='vscode-notebook-cell:/c%3A/Users/hp/Desktop/Random%20Programs/Python/projects/venv/ML%20udemy%20course/Chapter3/Reinforcement%20Learning/UCB.ipynb#ch0000002?line=20'>21</a>\u001b[0m ads_selected\u001b[39m.\u001b[39;49mappend[ad]\n\u001b[0;32m     <a href='vscode-notebook-cell:/c%3A/Users/hp/Desktop/Random%20Programs/Python/projects/venv/ML%20udemy%20course/Chapter3/Reinforcement%20Learning/UCB.ipynb#ch0000002?line=21'>22</a>\u001b[0m Numbers_selections\u001b[39m.\u001b[39mappend[ad] \u001b[39m+\u001b[39m\u001b[39m=\u001b[39m \u001b[39m1\u001b[39m\n\u001b[0;32m     <a href='vscode-notebook-cell:/c%3A/Users/hp/Desktop/Random%20Programs/Python/projects/venv/ML%20udemy%20course/Chapter3/Reinforcement%20Learning/UCB.ipynb#ch0000002?line=22'>23</a>\u001b[0m reward \u001b[39m=\u001b[39m dataset\u001b[39m.\u001b[39mvalues[i,ad]\n",
      "\u001b[1;31mTypeError\u001b[0m: 'builtin_function_or_method' object is not subscriptable"
     ]
    }
   ],
   "source": [
    "import math\n",
    "N = 10000   #Number of users\n",
    "d = 10      #Number of ads\n",
    "ads_selected = []\n",
    "Numbers_selections = [0] * d    #creates a list of 10 zeros\n",
    "Sums_of_Rewards = [0] * d\n",
    "total_reward = 0\n",
    "for i in range(0,N):\n",
    "    ad = 0\n",
    "    max_UCB = 0\n",
    "    for j in range(0,d):\n",
    "        if Numbers_selections[j] > 0:\n",
    "            avg_reward = Sums_of_Rewards[j]/Numbers_selections[j]\n",
    "            confidence_interval = math.sqrt((3*math.log(i + 1))/(2*Numbers_selections[j]))\n",
    "            upper_bound = avg_reward + confidence_interval\n",
    "        else:\n",
    "            upper_bound = 1e400\n",
    "        if (upper_bound > max_UCB):\n",
    "            max_UCB = upper_bound\n",
    "            ad = i\n",
    "ads_selected.append[ad]\n",
    "Numbers_selections.append[ad] += 1\n",
    "reward = dataset.values[i,ad]\n",
    "Sums_of_Rewards[ad] = Sums_of_Rewards[ad] + reward\n",
    "total_reward = total_reward + reward\n",
    "\n",
    "\n",
    "\n",
    "\n"
   ]
  },
  {
   "cell_type": "code",
   "execution_count": null,
   "metadata": {},
   "outputs": [],
   "source": []
  }
 ],
 "metadata": {
  "kernelspec": {
   "display_name": "Python 3.10.4 64-bit",
   "language": "python",
   "name": "python3"
  },
  "language_info": {
   "codemirror_mode": {
    "name": "ipython",
    "version": 3
   },
   "file_extension": ".py",
   "mimetype": "text/x-python",
   "name": "python",
   "nbconvert_exporter": "python",
   "pygments_lexer": "ipython3",
   "version": "3.10.4"
  },
  "orig_nbformat": 4,
  "vscode": {
   "interpreter": {
    "hash": "63963b3f4c440940f0b94a3100916033a226cb4f45979123153792d60aa56d6a"
   }
  }
 },
 "nbformat": 4,
 "nbformat_minor": 2
}
